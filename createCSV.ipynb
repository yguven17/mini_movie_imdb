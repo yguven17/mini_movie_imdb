{
 "cells": [
  {
   "cell_type": "code",
   "execution_count": null,
   "metadata": {
    "ExecuteTime": {
     "start_time": "2023-06-10T06:32:31.321096Z",
     "end_time": "2023-06-10T06:32:44.553096Z"
    }
   },
   "outputs": [],
   "source": [
    "import pandas as pd\n",
    "import numpy as np"
   ]
  },
  {
   "cell_type": "code",
   "execution_count": null,
   "metadata": {
    "ExecuteTime": {
     "start_time": "2023-06-10T06:33:24.065479Z",
     "end_time": "2023-06-10T06:34:59.206891Z"
    }
   },
   "outputs": [],
   "source": [
    "title_akas_df = pd.read_csv('title.akas.tsv.gz', compression='gzip', header=0, sep='\\t', quotechar='\"')\n",
    "basics_df = pd.read_csv('title.basics.tsv.gz', compression='gzip', header=0, sep='\\t', quotechar='\"')\n",
    "ratings_df = pd.read_csv('title.ratings.tsv.gz', compression='gzip', header=0, sep='\\t', quotechar='\"')\n",
    "crew_df = pd.read_csv('title.crew.tsv.gz',compression='gzip', header=0, sep='\\t', quotechar='\"')\n",
    "principals_df = pd.read_csv('title.principals.tsv.gz', compression='gzip', header=0, sep='\\t', quotechar='\"')\n",
    "name_basic_df = pd.read_csv('name.basics.tsv.gz', compression='gzip', header=0, sep='\\t', quotechar='\"')\n",
    "print(\"reading done\")\n"
   ]
  },
  {
   "cell_type": "code",
   "execution_count": null,
   "metadata": {
    "scrolled": true,
    "ExecuteTime": {
     "start_time": "2023-06-10T06:35:04.026304Z",
     "end_time": "2023-06-10T06:35:07.346286Z"
    }
   },
   "outputs": [],
   "source": [
    "# create DIRECTOR CSV\n",
    "name_basic_db_df = name_basic_df[~name_basic_df['primaryProfession'].isna()]\n",
    "director_db_df = name_basic_db_df[name_basic_db_df['primaryProfession'].str.contains('director')]\n",
    "director_db_df = director_db_df[['nconst', 'primaryName', 'birthYear', 'deathYear']]\n",
    "director_db_df = director_db_df[~(director_db_df['birthYear'] == '\\\\N')]\n",
    "director_db_df['deathYear'] = director_db_df['deathYear'].replace('\\\\N', np.nan)\n",
    "director_db_df.to_csv('director.csv', index=False)\n",
    "director_db_df.head(60)"
   ]
  },
  {
   "cell_type": "code",
   "execution_count": null,
   "metadata": {
    "ExecuteTime": {
     "start_time": "2023-06-10T06:35:19.413447Z",
     "end_time": "2023-06-10T06:35:25.305789Z"
    }
   },
   "outputs": [],
   "source": [
    "# create Actor CSV\n",
    "name_basic_db_df = name_basic_df[~name_basic_df['primaryProfession'].isna()]\n",
    "actors_db_df = name_basic_db_df[(name_basic_db_df['primaryProfession'].str.contains('actor')) | (name_basic_db_df['primaryProfession'].str.contains('actress'))]\n",
    "actors_db_df = actors_db_df[~(actors_db_df['birthYear'] == '\\\\N')]\n",
    "actors_db_df = actors_db_df[['nconst', 'primaryName', 'birthYear', 'deathYear']]\n",
    "actors_db_df = actors_db_df[actors_db_df['primaryName'].str.len() < 100]\n",
    "actors_db_df['deathYear'] = actors_db_df['deathYear'].replace('\\\\N', np.nan)\n",
    "actors_db_df.to_csv('actors.csv', index=False)\n",
    "actors_db_df\n"
   ]
  },
  {
   "cell_type": "code",
   "execution_count": null,
   "outputs": [],
   "source": [
    "# create MOVIE CSV\n",
    "movie_db_df = basics_df[basics_df['titleType'] == 'movie']\n",
    "movie_db_df = pd.merge(movie_db_df, ratings_df, on='tconst', how='inner')\n",
    "movie_db_df = movie_db_df.drop_duplicates()\n",
    "director_df = principals_df[principals_df['category'] == 'director'][['tconst', 'nconst']]\n",
    "movie_db_df = pd.merge(movie_db_df, director_df, on='tconst', how='inner')\n",
    "movie_db_df.drop_duplicates(subset =\"tconst\",keep = 'first', inplace = True)\n",
    "movie_db_df = movie_db_df.drop_duplicates()\n",
    "movie_db_df = movie_db_df[~(movie_db_df['genres'] == '\\\\N')]\n",
    "movie_db_df = movie_db_df[~(movie_db_df['runtimeMinutes'] == '\\\\N')]\n",
    "movie_db_df = movie_db_df[~(movie_db_df['startYear'] == '\\\\N')]\n",
    "movie_db_df = movie_db_df[['tconst', 'averageRating', 'numVotes', 'startYear', 'runtimeMinutes', 'primaryTitle', 'nconst']]\n",
    "movie_db_df = movie_db_df[movie_db_df['primaryTitle'].str.len() < 100]\n",
    "movie_db_df = movie_db_df[movie_db_df['nconst'].isin(director_db_df['nconst'].unique())]\n",
    "movie_db_df.to_csv('movie.csv', index=False)\n",
    "movie_db_df"
   ],
   "metadata": {
    "collapsed": false,
    "ExecuteTime": {
     "start_time": "2023-06-10T06:35:28.389085Z",
     "end_time": "2023-06-10T06:35:38.406191Z"
    }
   }
  },
  {
   "cell_type": "code",
   "execution_count": null,
   "metadata": {
    "ExecuteTime": {
     "start_time": "2023-06-10T06:35:42.692806Z",
     "end_time": "2023-06-10T06:35:46.415083Z"
    }
   },
   "outputs": [],
   "source": [
    "# create plays_in_movies CSV\n",
    "plays_in_movie_db_df = principals_df[principals_df['tconst'].isin(movie_db_df['tconst'].unique())]\n",
    "plays_in_movie_db_df = plays_in_movie_db_df[plays_in_movie_db_df['category'].isin(['actor','actress'])]\n",
    "plays_in_movie_db_df = plays_in_movie_db_df[['tconst', 'nconst']]\n",
    "plays_in_movie_db_df = plays_in_movie_db_df.drop_duplicates()\n",
    "plays_in_movie_db_df = plays_in_movie_db_df[plays_in_movie_db_df['nconst'].isin(actors_db_df['nconst'].unique())]\n",
    "plays_in_movie_db_df.to_csv('plays_in_movies.csv', index=False)\n",
    "plays_in_movie_db_df"
   ]
  },
  {
   "cell_type": "code",
   "execution_count": null,
   "metadata": {
    "scrolled": true,
    "ExecuteTime": {
     "start_time": "2023-06-10T06:37:12.390533Z",
     "end_time": "2023-06-10T06:37:14.991233Z"
    }
   },
   "outputs": [],
   "source": [
    "# create genre_movies CSV\n",
    "movie_list_db_df = basics_df[basics_df['titleType'] == 'movie']\n",
    "movie_genre_db_df = movie_list_db_df.join(movie_list_db_df['genres'].str.split(',', expand=True).rename(columns={0:'Genre1', 1:'Genre2', 2:'Genre3'}))\n",
    "movie_genre_db_df = movie_genre_db_df[['tconst', 'Genre1', 'Genre2', 'Genre3']]\n",
    "movie_genre_db_df = movie_genre_db_df[~(movie_genre_db_df['Genre1'] == '\\\\N')]\n",
    "pd.melt(movie_genre_db_df, id_vars='tconst', value_vars=['Genre1','Genre2','Genre3'], value_name='Genre')\n",
    "movie_genre_db_df = movie_genre_db_df.melt('tconst', value_name='Genre').drop(columns='variable')\n",
    "movie_genre_db_df = movie_genre_db_df[~movie_genre_db_df['Genre'].isna()]\n",
    "movie_genre_db_df = movie_genre_db_df[movie_genre_db_df['tconst'].isin(movie_db_df['tconst'].unique())]\n",
    "movie_genre_db_df.to_csv('genre_movies.csv', index=False)\n",
    "movie_genre_db_df\n"
   ]
  },
  {
   "cell_type": "code",
   "execution_count": null,
   "outputs": [],
   "source": [],
   "metadata": {
    "collapsed": false
   }
  }
 ],
 "metadata": {
  "interpreter": {
   "hash": "aee8b7b246df8f9039afb4144a1f6fd8d2ca17a180786b69acc140d282b71a49"
  },
  "kernelspec": {
   "display_name": "Python 3",
   "language": "python",
   "name": "python3"
  },
  "language_info": {
   "codemirror_mode": {
    "name": "ipython",
    "version": 3
   },
   "file_extension": ".py",
   "mimetype": "text/x-python",
   "name": "python",
   "nbconvert_exporter": "python",
   "pygments_lexer": "ipython3",
   "version": "3.9.0"
  }
 },
 "nbformat": 4,
 "nbformat_minor": 2
}
