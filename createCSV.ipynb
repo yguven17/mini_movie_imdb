{
 "cells": [
  {
   "cell_type": "code",
   "execution_count": 1,
   "metadata": {
    "ExecuteTime": {
     "start_time": "2023-06-10T06:32:31.321096Z",
     "end_time": "2023-06-10T06:32:44.553096Z"
    }
   },
   "outputs": [],
   "source": [
    "import pandas as pd\n",
    "import numpy as np"
   ]
  },
  {
   "cell_type": "code",
   "execution_count": 3,
   "metadata": {
    "ExecuteTime": {
     "start_time": "2023-06-10T06:33:24.065479Z",
     "end_time": "2023-06-10T06:34:59.206891Z"
    }
   },
   "outputs": [
    {
     "name": "stderr",
     "output_type": "stream",
     "text": [
      "/var/folders/mj/mqkdjsmx093601gfdjss778r0000gn/T/ipykernel_25927/3423713104.py:1: DtypeWarning: Columns (7) have mixed types. Specify dtype option on import or set low_memory=False.\n",
      "  title_akas_df = pd.read_csv('title.akas.tsv.gz', compression='gzip', header=0, sep='\\t', quotechar='\"')\n",
      "/var/folders/mj/mqkdjsmx093601gfdjss778r0000gn/T/ipykernel_25927/3423713104.py:3: DtypeWarning: Columns (4) have mixed types. Specify dtype option on import or set low_memory=False.\n",
      "  basics_df = pd.read_csv('title.basics.tsv.gz', compression='gzip', header=0, sep='\\t', quotechar='\"')\n"
     ]
    }
   ],
   "source": [
    "title_akas_df = pd.read_csv('title.akas.tsv.gz', compression='gzip', header=0, sep='\\t', quotechar='\"')\n",
    "episode_df = pd.read_csv('title.episode.tsv.gz', compression='gzip', header=0, sep='\\t', quotechar='\"')\n",
    "basics_df = pd.read_csv('title.basics.tsv.gz', compression='gzip', header=0, sep='\\t', quotechar='\"')\n",
    "ratings_df = pd.read_csv('title.ratings.tsv.gz', compression='gzip', header=0, sep='\\t', quotechar='\"')\n",
    "crew_df = pd.read_csv('title.crew.tsv.gz',compression='gzip', header=0, sep='\\t', quotechar='\"')\n",
    "principals_df = pd.read_csv('title.principals.tsv.gz', compression='gzip', header=0, sep='\\t', quotechar='\"')\n",
    "name_basic_df = pd.read_csv('name.basics.tsv.gz', compression='gzip', header=0, sep='\\t', quotechar='\"')\n",
    "print(\"reading done\")\n"
   ]
  },
  {
   "cell_type": "code",
   "execution_count": 4,
   "metadata": {
    "scrolled": true,
    "ExecuteTime": {
     "start_time": "2023-06-10T06:35:04.026304Z",
     "end_time": "2023-06-10T06:35:07.346286Z"
    }
   },
   "outputs": [
    {
     "data": {
      "text/plain": "        nconst            primaryName birthYear deathYear\n4    nm0000005         Ingmar Bergman      1918      2007\n7    nm0000008          Marlon Brando      1924      2004\n9    nm0000010           James Cagney      1899      1986\n18   nm0000019       Federico Fellini      1920      1993\n23   nm0000024           John Gielgud      1904      2000\n31   nm0000032        Charlton Heston      1923      2008\n32   nm0000033       Alfred Hitchcock      1899      1980\n35   nm0000036          Buster Keaton      1895      1966\n39   nm0000040        Stanley Kubrick      1928      1999\n40   nm0000041         Akira Kurosawa      1910      1998\n55   nm0000056            Paul Newman      1925      2008\n58   nm0000059       Laurence Olivier      1907      1989\n70   nm0000071          James Stewart      1908      1997\n75   nm0000076      François Truffaut      1932      1984\n79   nm0000080           Orson Welles      1915      1985\n85   nm0000086         Louis de Funès      1914      1983\n86   nm0000087         Elena Koreneva      1953       NaN\n87   nm0000088        Aleksey Korenev      1927      1995\n89   nm0000090    Armin Mueller-Stahl      1930       NaN\n90   nm0000091           Gérard Pirès      1942       NaN\n94   nm0000095            Woody Allen      1935       NaN\n96   nm0000097        Pamela Anderson      1967       NaN\n98   nm0000099      Patricia Arquette      1968       NaN\n107  nm0000108             Luc Besson      1959       NaN\n109  nm0000110        Kenneth Branagh      1960       NaN\n110  nm0000111      Matthew Broderick      1962       NaN\n113  nm0000114          Steve Buscemi      1957       NaN\n115  nm0000116          James Cameron      1954       NaN\n122  nm0000123         George Clooney      1961       NaN\n126  nm0000127             Wes Craven      1939      2015\n127  nm0000128          Russell Crowe      1964       NaN\n129  nm0000130       Jamie Lee Curtis      1958       NaN\n140  nm0000141         David Duchovny      1960       NaN\n141  nm0000142         Clint Eastwood      1930       NaN\n145  nm0000146          Ralph Fiennes      1962       NaN\n148  nm0000149           Jodie Foster      1962       NaN\n153  nm0000154             Mel Gibson      1956       NaN\n165  nm0000166             Helen Hunt      1963       NaN\n168  nm0000169        Tommy Lee Jones      1946       NaN\n170  nm0000171            Ashley Judd      1968       NaN\n176  nm0000177            Kevin Kline      1947       NaN\n179  nm0000180             David Lean      1908      1991\n183  nm0000184           George Lucas      1944       NaN\n184  nm0000185         Dolph Lundgren      1957       NaN\n185  nm0000186            David Lynch      1946       NaN\n198  nm0000199              Al Pacino      1940       NaN\n201  nm0000202         Ryan Phillippe      1974       NaN\n208  nm0000209            Tim Robbins      1958       NaN\n211  nm0000212               Meg Ryan      1961       NaN\n215  nm0000216  Arnold Schwarzenegger      1947       NaN\n216  nm0000217        Martin Scorsese      1942       NaN\n217  nm0000218   Kristin Scott Thomas      1960       NaN\n228  nm0000229       Steven Spielberg      1946       NaN\n230  nm0000231           Oliver Stone      1946       NaN\n239  nm0000240           Skeet Ulrich      1970       NaN\n242  nm0000243      Denzel Washington      1954       NaN\n246  nm0000247               John Woo      1946       NaN\n247  nm0000248     Edward D. Wood Jr.      1924      1978\n248  nm0000249            James Woods      1947       NaN\n251  nm0000252           Robert Ellis      1892      1974",
      "text/html": "<div>\n<style scoped>\n    .dataframe tbody tr th:only-of-type {\n        vertical-align: middle;\n    }\n\n    .dataframe tbody tr th {\n        vertical-align: top;\n    }\n\n    .dataframe thead th {\n        text-align: right;\n    }\n</style>\n<table border=\"1\" class=\"dataframe\">\n  <thead>\n    <tr style=\"text-align: right;\">\n      <th></th>\n      <th>nconst</th>\n      <th>primaryName</th>\n      <th>birthYear</th>\n      <th>deathYear</th>\n    </tr>\n  </thead>\n  <tbody>\n    <tr>\n      <th>4</th>\n      <td>nm0000005</td>\n      <td>Ingmar Bergman</td>\n      <td>1918</td>\n      <td>2007</td>\n    </tr>\n    <tr>\n      <th>7</th>\n      <td>nm0000008</td>\n      <td>Marlon Brando</td>\n      <td>1924</td>\n      <td>2004</td>\n    </tr>\n    <tr>\n      <th>9</th>\n      <td>nm0000010</td>\n      <td>James Cagney</td>\n      <td>1899</td>\n      <td>1986</td>\n    </tr>\n    <tr>\n      <th>18</th>\n      <td>nm0000019</td>\n      <td>Federico Fellini</td>\n      <td>1920</td>\n      <td>1993</td>\n    </tr>\n    <tr>\n      <th>23</th>\n      <td>nm0000024</td>\n      <td>John Gielgud</td>\n      <td>1904</td>\n      <td>2000</td>\n    </tr>\n    <tr>\n      <th>31</th>\n      <td>nm0000032</td>\n      <td>Charlton Heston</td>\n      <td>1923</td>\n      <td>2008</td>\n    </tr>\n    <tr>\n      <th>32</th>\n      <td>nm0000033</td>\n      <td>Alfred Hitchcock</td>\n      <td>1899</td>\n      <td>1980</td>\n    </tr>\n    <tr>\n      <th>35</th>\n      <td>nm0000036</td>\n      <td>Buster Keaton</td>\n      <td>1895</td>\n      <td>1966</td>\n    </tr>\n    <tr>\n      <th>39</th>\n      <td>nm0000040</td>\n      <td>Stanley Kubrick</td>\n      <td>1928</td>\n      <td>1999</td>\n    </tr>\n    <tr>\n      <th>40</th>\n      <td>nm0000041</td>\n      <td>Akira Kurosawa</td>\n      <td>1910</td>\n      <td>1998</td>\n    </tr>\n    <tr>\n      <th>55</th>\n      <td>nm0000056</td>\n      <td>Paul Newman</td>\n      <td>1925</td>\n      <td>2008</td>\n    </tr>\n    <tr>\n      <th>58</th>\n      <td>nm0000059</td>\n      <td>Laurence Olivier</td>\n      <td>1907</td>\n      <td>1989</td>\n    </tr>\n    <tr>\n      <th>70</th>\n      <td>nm0000071</td>\n      <td>James Stewart</td>\n      <td>1908</td>\n      <td>1997</td>\n    </tr>\n    <tr>\n      <th>75</th>\n      <td>nm0000076</td>\n      <td>François Truffaut</td>\n      <td>1932</td>\n      <td>1984</td>\n    </tr>\n    <tr>\n      <th>79</th>\n      <td>nm0000080</td>\n      <td>Orson Welles</td>\n      <td>1915</td>\n      <td>1985</td>\n    </tr>\n    <tr>\n      <th>85</th>\n      <td>nm0000086</td>\n      <td>Louis de Funès</td>\n      <td>1914</td>\n      <td>1983</td>\n    </tr>\n    <tr>\n      <th>86</th>\n      <td>nm0000087</td>\n      <td>Elena Koreneva</td>\n      <td>1953</td>\n      <td>NaN</td>\n    </tr>\n    <tr>\n      <th>87</th>\n      <td>nm0000088</td>\n      <td>Aleksey Korenev</td>\n      <td>1927</td>\n      <td>1995</td>\n    </tr>\n    <tr>\n      <th>89</th>\n      <td>nm0000090</td>\n      <td>Armin Mueller-Stahl</td>\n      <td>1930</td>\n      <td>NaN</td>\n    </tr>\n    <tr>\n      <th>90</th>\n      <td>nm0000091</td>\n      <td>Gérard Pirès</td>\n      <td>1942</td>\n      <td>NaN</td>\n    </tr>\n    <tr>\n      <th>94</th>\n      <td>nm0000095</td>\n      <td>Woody Allen</td>\n      <td>1935</td>\n      <td>NaN</td>\n    </tr>\n    <tr>\n      <th>96</th>\n      <td>nm0000097</td>\n      <td>Pamela Anderson</td>\n      <td>1967</td>\n      <td>NaN</td>\n    </tr>\n    <tr>\n      <th>98</th>\n      <td>nm0000099</td>\n      <td>Patricia Arquette</td>\n      <td>1968</td>\n      <td>NaN</td>\n    </tr>\n    <tr>\n      <th>107</th>\n      <td>nm0000108</td>\n      <td>Luc Besson</td>\n      <td>1959</td>\n      <td>NaN</td>\n    </tr>\n    <tr>\n      <th>109</th>\n      <td>nm0000110</td>\n      <td>Kenneth Branagh</td>\n      <td>1960</td>\n      <td>NaN</td>\n    </tr>\n    <tr>\n      <th>110</th>\n      <td>nm0000111</td>\n      <td>Matthew Broderick</td>\n      <td>1962</td>\n      <td>NaN</td>\n    </tr>\n    <tr>\n      <th>113</th>\n      <td>nm0000114</td>\n      <td>Steve Buscemi</td>\n      <td>1957</td>\n      <td>NaN</td>\n    </tr>\n    <tr>\n      <th>115</th>\n      <td>nm0000116</td>\n      <td>James Cameron</td>\n      <td>1954</td>\n      <td>NaN</td>\n    </tr>\n    <tr>\n      <th>122</th>\n      <td>nm0000123</td>\n      <td>George Clooney</td>\n      <td>1961</td>\n      <td>NaN</td>\n    </tr>\n    <tr>\n      <th>126</th>\n      <td>nm0000127</td>\n      <td>Wes Craven</td>\n      <td>1939</td>\n      <td>2015</td>\n    </tr>\n    <tr>\n      <th>127</th>\n      <td>nm0000128</td>\n      <td>Russell Crowe</td>\n      <td>1964</td>\n      <td>NaN</td>\n    </tr>\n    <tr>\n      <th>129</th>\n      <td>nm0000130</td>\n      <td>Jamie Lee Curtis</td>\n      <td>1958</td>\n      <td>NaN</td>\n    </tr>\n    <tr>\n      <th>140</th>\n      <td>nm0000141</td>\n      <td>David Duchovny</td>\n      <td>1960</td>\n      <td>NaN</td>\n    </tr>\n    <tr>\n      <th>141</th>\n      <td>nm0000142</td>\n      <td>Clint Eastwood</td>\n      <td>1930</td>\n      <td>NaN</td>\n    </tr>\n    <tr>\n      <th>145</th>\n      <td>nm0000146</td>\n      <td>Ralph Fiennes</td>\n      <td>1962</td>\n      <td>NaN</td>\n    </tr>\n    <tr>\n      <th>148</th>\n      <td>nm0000149</td>\n      <td>Jodie Foster</td>\n      <td>1962</td>\n      <td>NaN</td>\n    </tr>\n    <tr>\n      <th>153</th>\n      <td>nm0000154</td>\n      <td>Mel Gibson</td>\n      <td>1956</td>\n      <td>NaN</td>\n    </tr>\n    <tr>\n      <th>165</th>\n      <td>nm0000166</td>\n      <td>Helen Hunt</td>\n      <td>1963</td>\n      <td>NaN</td>\n    </tr>\n    <tr>\n      <th>168</th>\n      <td>nm0000169</td>\n      <td>Tommy Lee Jones</td>\n      <td>1946</td>\n      <td>NaN</td>\n    </tr>\n    <tr>\n      <th>170</th>\n      <td>nm0000171</td>\n      <td>Ashley Judd</td>\n      <td>1968</td>\n      <td>NaN</td>\n    </tr>\n    <tr>\n      <th>176</th>\n      <td>nm0000177</td>\n      <td>Kevin Kline</td>\n      <td>1947</td>\n      <td>NaN</td>\n    </tr>\n    <tr>\n      <th>179</th>\n      <td>nm0000180</td>\n      <td>David Lean</td>\n      <td>1908</td>\n      <td>1991</td>\n    </tr>\n    <tr>\n      <th>183</th>\n      <td>nm0000184</td>\n      <td>George Lucas</td>\n      <td>1944</td>\n      <td>NaN</td>\n    </tr>\n    <tr>\n      <th>184</th>\n      <td>nm0000185</td>\n      <td>Dolph Lundgren</td>\n      <td>1957</td>\n      <td>NaN</td>\n    </tr>\n    <tr>\n      <th>185</th>\n      <td>nm0000186</td>\n      <td>David Lynch</td>\n      <td>1946</td>\n      <td>NaN</td>\n    </tr>\n    <tr>\n      <th>198</th>\n      <td>nm0000199</td>\n      <td>Al Pacino</td>\n      <td>1940</td>\n      <td>NaN</td>\n    </tr>\n    <tr>\n      <th>201</th>\n      <td>nm0000202</td>\n      <td>Ryan Phillippe</td>\n      <td>1974</td>\n      <td>NaN</td>\n    </tr>\n    <tr>\n      <th>208</th>\n      <td>nm0000209</td>\n      <td>Tim Robbins</td>\n      <td>1958</td>\n      <td>NaN</td>\n    </tr>\n    <tr>\n      <th>211</th>\n      <td>nm0000212</td>\n      <td>Meg Ryan</td>\n      <td>1961</td>\n      <td>NaN</td>\n    </tr>\n    <tr>\n      <th>215</th>\n      <td>nm0000216</td>\n      <td>Arnold Schwarzenegger</td>\n      <td>1947</td>\n      <td>NaN</td>\n    </tr>\n    <tr>\n      <th>216</th>\n      <td>nm0000217</td>\n      <td>Martin Scorsese</td>\n      <td>1942</td>\n      <td>NaN</td>\n    </tr>\n    <tr>\n      <th>217</th>\n      <td>nm0000218</td>\n      <td>Kristin Scott Thomas</td>\n      <td>1960</td>\n      <td>NaN</td>\n    </tr>\n    <tr>\n      <th>228</th>\n      <td>nm0000229</td>\n      <td>Steven Spielberg</td>\n      <td>1946</td>\n      <td>NaN</td>\n    </tr>\n    <tr>\n      <th>230</th>\n      <td>nm0000231</td>\n      <td>Oliver Stone</td>\n      <td>1946</td>\n      <td>NaN</td>\n    </tr>\n    <tr>\n      <th>239</th>\n      <td>nm0000240</td>\n      <td>Skeet Ulrich</td>\n      <td>1970</td>\n      <td>NaN</td>\n    </tr>\n    <tr>\n      <th>242</th>\n      <td>nm0000243</td>\n      <td>Denzel Washington</td>\n      <td>1954</td>\n      <td>NaN</td>\n    </tr>\n    <tr>\n      <th>246</th>\n      <td>nm0000247</td>\n      <td>John Woo</td>\n      <td>1946</td>\n      <td>NaN</td>\n    </tr>\n    <tr>\n      <th>247</th>\n      <td>nm0000248</td>\n      <td>Edward D. Wood Jr.</td>\n      <td>1924</td>\n      <td>1978</td>\n    </tr>\n    <tr>\n      <th>248</th>\n      <td>nm0000249</td>\n      <td>James Woods</td>\n      <td>1947</td>\n      <td>NaN</td>\n    </tr>\n    <tr>\n      <th>251</th>\n      <td>nm0000252</td>\n      <td>Robert Ellis</td>\n      <td>1892</td>\n      <td>1974</td>\n    </tr>\n  </tbody>\n</table>\n</div>"
     },
     "execution_count": 4,
     "metadata": {},
     "output_type": "execute_result"
    }
   ],
   "source": [
    "# create DIRECTOR CSV\n",
    "name_basic_db_df = name_basic_df[~name_basic_df['primaryProfession'].isna()]\n",
    "director_db_df = name_basic_db_df[name_basic_db_df['primaryProfession'].str.contains('director')]\n",
    "director_db_df = director_db_df[['nconst', 'primaryName', 'birthYear', 'deathYear']]\n",
    "director_db_df = director_db_df[~(director_db_df['birthYear'] == '\\\\N')]\n",
    "director_db_df['deathYear'] = director_db_df['deathYear'].replace('\\\\N', np.nan)\n",
    "director_db_df.to_csv('director.csv', index=False)\n",
    "director_db_df.head(60)"
   ]
  },
  {
   "cell_type": "code",
   "execution_count": 5,
   "metadata": {
    "ExecuteTime": {
     "start_time": "2023-06-10T06:35:19.413447Z",
     "end_time": "2023-06-10T06:35:25.305789Z"
    }
   },
   "outputs": [
    {
     "data": {
      "text/plain": "             nconst      primaryName birthYear deathYear\n0         nm0000001     Fred Astaire      1899      1987\n1         nm0000002    Lauren Bacall      1924      2014\n2         nm0000003  Brigitte Bardot      1934       NaN\n3         nm0000004     John Belushi      1949      1982\n4         nm0000005   Ingmar Bergman      1918      2007\n...             ...              ...       ...       ...\n12597098  nm9992812            Daisy      1994       NaN\n12597426  nm9993199    Denis Nurulin      1997       NaN\n12597591  nm9993379  Fanny Hozleiter      1988       NaN\n12597727  nm9993535    Henry Lawfull      2006       NaN\n12597865  nm9993693      Apsara Rani      1996       NaN\n\n[348831 rows x 4 columns]",
      "text/html": "<div>\n<style scoped>\n    .dataframe tbody tr th:only-of-type {\n        vertical-align: middle;\n    }\n\n    .dataframe tbody tr th {\n        vertical-align: top;\n    }\n\n    .dataframe thead th {\n        text-align: right;\n    }\n</style>\n<table border=\"1\" class=\"dataframe\">\n  <thead>\n    <tr style=\"text-align: right;\">\n      <th></th>\n      <th>nconst</th>\n      <th>primaryName</th>\n      <th>birthYear</th>\n      <th>deathYear</th>\n    </tr>\n  </thead>\n  <tbody>\n    <tr>\n      <th>0</th>\n      <td>nm0000001</td>\n      <td>Fred Astaire</td>\n      <td>1899</td>\n      <td>1987</td>\n    </tr>\n    <tr>\n      <th>1</th>\n      <td>nm0000002</td>\n      <td>Lauren Bacall</td>\n      <td>1924</td>\n      <td>2014</td>\n    </tr>\n    <tr>\n      <th>2</th>\n      <td>nm0000003</td>\n      <td>Brigitte Bardot</td>\n      <td>1934</td>\n      <td>NaN</td>\n    </tr>\n    <tr>\n      <th>3</th>\n      <td>nm0000004</td>\n      <td>John Belushi</td>\n      <td>1949</td>\n      <td>1982</td>\n    </tr>\n    <tr>\n      <th>4</th>\n      <td>nm0000005</td>\n      <td>Ingmar Bergman</td>\n      <td>1918</td>\n      <td>2007</td>\n    </tr>\n    <tr>\n      <th>...</th>\n      <td>...</td>\n      <td>...</td>\n      <td>...</td>\n      <td>...</td>\n    </tr>\n    <tr>\n      <th>12597098</th>\n      <td>nm9992812</td>\n      <td>Daisy</td>\n      <td>1994</td>\n      <td>NaN</td>\n    </tr>\n    <tr>\n      <th>12597426</th>\n      <td>nm9993199</td>\n      <td>Denis Nurulin</td>\n      <td>1997</td>\n      <td>NaN</td>\n    </tr>\n    <tr>\n      <th>12597591</th>\n      <td>nm9993379</td>\n      <td>Fanny Hozleiter</td>\n      <td>1988</td>\n      <td>NaN</td>\n    </tr>\n    <tr>\n      <th>12597727</th>\n      <td>nm9993535</td>\n      <td>Henry Lawfull</td>\n      <td>2006</td>\n      <td>NaN</td>\n    </tr>\n    <tr>\n      <th>12597865</th>\n      <td>nm9993693</td>\n      <td>Apsara Rani</td>\n      <td>1996</td>\n      <td>NaN</td>\n    </tr>\n  </tbody>\n</table>\n<p>348831 rows × 4 columns</p>\n</div>"
     },
     "execution_count": 5,
     "metadata": {},
     "output_type": "execute_result"
    }
   ],
   "source": [
    "# create Actor CSV\n",
    "name_basic_db_df = name_basic_df[~name_basic_df['primaryProfession'].isna()]\n",
    "actors_db_df = name_basic_db_df[(name_basic_db_df['primaryProfession'].str.contains('actor')) | (name_basic_db_df['primaryProfession'].str.contains('actress'))]\n",
    "actors_db_df = actors_db_df[~(actors_db_df['birthYear'] == '\\\\N')]\n",
    "actors_db_df = actors_db_df[['nconst', 'primaryName', 'birthYear', 'deathYear']]\n",
    "actors_db_df = actors_db_df[actors_db_df['primaryName'].str.len() < 100]\n",
    "actors_db_df['deathYear'] = actors_db_df['deathYear'].replace('\\\\N', np.nan)\n",
    "actors_db_df.to_csv('actors.csv', index=False)\n",
    "actors_db_df\n"
   ]
  },
  {
   "cell_type": "code",
   "execution_count": 6,
   "outputs": [
    {
     "data": {
      "text/plain": "           tconst  averageRating  numVotes startYear runtimeMinutes  \\\n0       tt0000009            5.3       206      1894             45   \n1       tt0000147            5.3       474      1897            100   \n3       tt0000574            6.0       831      1906             70   \n4       tt0000591            4.4        20      1907             90   \n8       tt0000679            5.1        68      1908            120   \n...           ...            ...       ...       ...            ...   \n304038  tt9913084            6.7        51      2019             75   \n304042  tt9914254            7.1         8      2019             85   \n304052  tt9915946            6.8        11      1993             96   \n304056  tt9916270            5.8      1422      2020             84   \n304057  tt9916362            6.4      5370      2020             92   \n\n                          primaryTitle     nconst  \n0                           Miss Jerry  nm0085156  \n1        The Corbett-Fitzsimmons Fight  nm0714557  \n3          The Story of the Kelly Gang  nm0846879  \n4                     The Prodigal Son  nm0141150  \n8       The Fairylogue and Radio-Plays  nm0091767  \n...                                ...        ...  \n304038                Diabolik sono io  nm0812850  \n304042                   A Cherry Tale  nm1375922  \n304052                Nuestra película  nm0652213  \n304056        Il talento del calabrone  nm1480867  \n304057                           Coven  nm1893148  \n\n[132185 rows x 7 columns]",
      "text/html": "<div>\n<style scoped>\n    .dataframe tbody tr th:only-of-type {\n        vertical-align: middle;\n    }\n\n    .dataframe tbody tr th {\n        vertical-align: top;\n    }\n\n    .dataframe thead th {\n        text-align: right;\n    }\n</style>\n<table border=\"1\" class=\"dataframe\">\n  <thead>\n    <tr style=\"text-align: right;\">\n      <th></th>\n      <th>tconst</th>\n      <th>averageRating</th>\n      <th>numVotes</th>\n      <th>startYear</th>\n      <th>runtimeMinutes</th>\n      <th>primaryTitle</th>\n      <th>nconst</th>\n    </tr>\n  </thead>\n  <tbody>\n    <tr>\n      <th>0</th>\n      <td>tt0000009</td>\n      <td>5.3</td>\n      <td>206</td>\n      <td>1894</td>\n      <td>45</td>\n      <td>Miss Jerry</td>\n      <td>nm0085156</td>\n    </tr>\n    <tr>\n      <th>1</th>\n      <td>tt0000147</td>\n      <td>5.3</td>\n      <td>474</td>\n      <td>1897</td>\n      <td>100</td>\n      <td>The Corbett-Fitzsimmons Fight</td>\n      <td>nm0714557</td>\n    </tr>\n    <tr>\n      <th>3</th>\n      <td>tt0000574</td>\n      <td>6.0</td>\n      <td>831</td>\n      <td>1906</td>\n      <td>70</td>\n      <td>The Story of the Kelly Gang</td>\n      <td>nm0846879</td>\n    </tr>\n    <tr>\n      <th>4</th>\n      <td>tt0000591</td>\n      <td>4.4</td>\n      <td>20</td>\n      <td>1907</td>\n      <td>90</td>\n      <td>The Prodigal Son</td>\n      <td>nm0141150</td>\n    </tr>\n    <tr>\n      <th>8</th>\n      <td>tt0000679</td>\n      <td>5.1</td>\n      <td>68</td>\n      <td>1908</td>\n      <td>120</td>\n      <td>The Fairylogue and Radio-Plays</td>\n      <td>nm0091767</td>\n    </tr>\n    <tr>\n      <th>...</th>\n      <td>...</td>\n      <td>...</td>\n      <td>...</td>\n      <td>...</td>\n      <td>...</td>\n      <td>...</td>\n      <td>...</td>\n    </tr>\n    <tr>\n      <th>304038</th>\n      <td>tt9913084</td>\n      <td>6.7</td>\n      <td>51</td>\n      <td>2019</td>\n      <td>75</td>\n      <td>Diabolik sono io</td>\n      <td>nm0812850</td>\n    </tr>\n    <tr>\n      <th>304042</th>\n      <td>tt9914254</td>\n      <td>7.1</td>\n      <td>8</td>\n      <td>2019</td>\n      <td>85</td>\n      <td>A Cherry Tale</td>\n      <td>nm1375922</td>\n    </tr>\n    <tr>\n      <th>304052</th>\n      <td>tt9915946</td>\n      <td>6.8</td>\n      <td>11</td>\n      <td>1993</td>\n      <td>96</td>\n      <td>Nuestra película</td>\n      <td>nm0652213</td>\n    </tr>\n    <tr>\n      <th>304056</th>\n      <td>tt9916270</td>\n      <td>5.8</td>\n      <td>1422</td>\n      <td>2020</td>\n      <td>84</td>\n      <td>Il talento del calabrone</td>\n      <td>nm1480867</td>\n    </tr>\n    <tr>\n      <th>304057</th>\n      <td>tt9916362</td>\n      <td>6.4</td>\n      <td>5370</td>\n      <td>2020</td>\n      <td>92</td>\n      <td>Coven</td>\n      <td>nm1893148</td>\n    </tr>\n  </tbody>\n</table>\n<p>132185 rows × 7 columns</p>\n</div>"
     },
     "execution_count": 6,
     "metadata": {},
     "output_type": "execute_result"
    }
   ],
   "source": [
    "# create MOVIE CSV\n",
    "movie_db_df = basics_df[basics_df['titleType'] == 'movie']\n",
    "movie_db_df = pd.merge(movie_db_df, ratings_df, on='tconst', how='inner')\n",
    "movie_db_df = movie_db_df.drop_duplicates()\n",
    "director_df = principals_df[principals_df['category'] == 'director'][['tconst', 'nconst']]\n",
    "movie_db_df = pd.merge(movie_db_df, director_df, on='tconst', how='inner')\n",
    "movie_db_df.drop_duplicates(subset =\"tconst\",keep = 'first', inplace = True)\n",
    "movie_db_df = movie_db_df.drop_duplicates()\n",
    "movie_db_df = movie_db_df[~(movie_db_df['genres'] == '\\\\N')]\n",
    "movie_db_df = movie_db_df[~(movie_db_df['runtimeMinutes'] == '\\\\N')]\n",
    "movie_db_df = movie_db_df[~(movie_db_df['startYear'] == '\\\\N')]\n",
    "movie_db_df = movie_db_df[['tconst', 'averageRating', 'numVotes', 'startYear', 'runtimeMinutes', 'primaryTitle', 'nconst']]\n",
    "movie_db_df = movie_db_df[movie_db_df['primaryTitle'].str.len() < 100]\n",
    "movie_db_df = movie_db_df[movie_db_df['nconst'].isin(director_db_df['nconst'].unique())]\n",
    "movie_db_df.to_csv('movie.csv', index=False)\n",
    "movie_db_df"
   ],
   "metadata": {
    "collapsed": false,
    "ExecuteTime": {
     "start_time": "2023-06-10T06:35:28.389085Z",
     "end_time": "2023-06-10T06:35:38.406191Z"
    }
   }
  },
  {
   "cell_type": "code",
   "execution_count": 7,
   "metadata": {
    "ExecuteTime": {
     "start_time": "2023-06-10T06:35:42.692806Z",
     "end_time": "2023-06-10T06:35:46.415083Z"
    }
   },
   "outputs": [
    {
     "data": {
      "text/plain": "             tconst     nconst\n24        tt0000009  nm0063086\n25        tt0000009  nm0183823\n26        tt0000009  nm1309758\n1043      tt0000574  nm0846887\n1044      tt0000574  nm0846894\n...             ...        ...\n56577991  tt9916270  nm3080119\n56577992  tt9916270  nm2063290\n56578176  tt9916362  nm3766704\n56578177  tt9916362  nm0107165\n56578178  tt9916362  nm0266723\n\n[410103 rows x 2 columns]",
      "text/html": "<div>\n<style scoped>\n    .dataframe tbody tr th:only-of-type {\n        vertical-align: middle;\n    }\n\n    .dataframe tbody tr th {\n        vertical-align: top;\n    }\n\n    .dataframe thead th {\n        text-align: right;\n    }\n</style>\n<table border=\"1\" class=\"dataframe\">\n  <thead>\n    <tr style=\"text-align: right;\">\n      <th></th>\n      <th>tconst</th>\n      <th>nconst</th>\n    </tr>\n  </thead>\n  <tbody>\n    <tr>\n      <th>24</th>\n      <td>tt0000009</td>\n      <td>nm0063086</td>\n    </tr>\n    <tr>\n      <th>25</th>\n      <td>tt0000009</td>\n      <td>nm0183823</td>\n    </tr>\n    <tr>\n      <th>26</th>\n      <td>tt0000009</td>\n      <td>nm1309758</td>\n    </tr>\n    <tr>\n      <th>1043</th>\n      <td>tt0000574</td>\n      <td>nm0846887</td>\n    </tr>\n    <tr>\n      <th>1044</th>\n      <td>tt0000574</td>\n      <td>nm0846894</td>\n    </tr>\n    <tr>\n      <th>...</th>\n      <td>...</td>\n      <td>...</td>\n    </tr>\n    <tr>\n      <th>56577991</th>\n      <td>tt9916270</td>\n      <td>nm3080119</td>\n    </tr>\n    <tr>\n      <th>56577992</th>\n      <td>tt9916270</td>\n      <td>nm2063290</td>\n    </tr>\n    <tr>\n      <th>56578176</th>\n      <td>tt9916362</td>\n      <td>nm3766704</td>\n    </tr>\n    <tr>\n      <th>56578177</th>\n      <td>tt9916362</td>\n      <td>nm0107165</td>\n    </tr>\n    <tr>\n      <th>56578178</th>\n      <td>tt9916362</td>\n      <td>nm0266723</td>\n    </tr>\n  </tbody>\n</table>\n<p>410103 rows × 2 columns</p>\n</div>"
     },
     "execution_count": 7,
     "metadata": {},
     "output_type": "execute_result"
    }
   ],
   "source": [
    "# create plays_in_movies CSV\n",
    "plays_in_movie_db_df = principals_df[principals_df['tconst'].isin(movie_db_df['tconst'].unique())]\n",
    "plays_in_movie_db_df = plays_in_movie_db_df[plays_in_movie_db_df['category'].isin(['actor','actress'])]\n",
    "plays_in_movie_db_df = plays_in_movie_db_df[['tconst', 'nconst']]\n",
    "plays_in_movie_db_df = plays_in_movie_db_df.drop_duplicates()\n",
    "plays_in_movie_db_df = plays_in_movie_db_df[plays_in_movie_db_df['nconst'].isin(actors_db_df['nconst'].unique())]\n",
    "plays_in_movie_db_df.to_csv('plays_in_movies.csv', index=False)\n",
    "plays_in_movie_db_df"
   ]
  },
  {
   "cell_type": "code",
   "execution_count": 9,
   "metadata": {
    "scrolled": true,
    "ExecuteTime": {
     "start_time": "2023-06-10T06:37:12.390533Z",
     "end_time": "2023-06-10T06:37:14.991233Z"
    }
   },
   "outputs": [
    {
     "data": {
      "text/plain": "            tconst        Genre\n0        tt0000009      Romance\n1        tt0000147  Documentary\n2        tt0000574       Action\n3        tt0000591        Drama\n7        tt0000679    Adventure\n...            ...          ...\n1725927  tt9891874     Thriller\n1726077  tt9898858        Crime\n1726105  tt9900060        Crime\n1726124  tt9900782        Crime\n1726224  tt9907782      Mystery\n\n[244263 rows x 2 columns]",
      "text/html": "<div>\n<style scoped>\n    .dataframe tbody tr th:only-of-type {\n        vertical-align: middle;\n    }\n\n    .dataframe tbody tr th {\n        vertical-align: top;\n    }\n\n    .dataframe thead th {\n        text-align: right;\n    }\n</style>\n<table border=\"1\" class=\"dataframe\">\n  <thead>\n    <tr style=\"text-align: right;\">\n      <th></th>\n      <th>tconst</th>\n      <th>Genre</th>\n    </tr>\n  </thead>\n  <tbody>\n    <tr>\n      <th>0</th>\n      <td>tt0000009</td>\n      <td>Romance</td>\n    </tr>\n    <tr>\n      <th>1</th>\n      <td>tt0000147</td>\n      <td>Documentary</td>\n    </tr>\n    <tr>\n      <th>2</th>\n      <td>tt0000574</td>\n      <td>Action</td>\n    </tr>\n    <tr>\n      <th>3</th>\n      <td>tt0000591</td>\n      <td>Drama</td>\n    </tr>\n    <tr>\n      <th>7</th>\n      <td>tt0000679</td>\n      <td>Adventure</td>\n    </tr>\n    <tr>\n      <th>...</th>\n      <td>...</td>\n      <td>...</td>\n    </tr>\n    <tr>\n      <th>1725927</th>\n      <td>tt9891874</td>\n      <td>Thriller</td>\n    </tr>\n    <tr>\n      <th>1726077</th>\n      <td>tt9898858</td>\n      <td>Crime</td>\n    </tr>\n    <tr>\n      <th>1726105</th>\n      <td>tt9900060</td>\n      <td>Crime</td>\n    </tr>\n    <tr>\n      <th>1726124</th>\n      <td>tt9900782</td>\n      <td>Crime</td>\n    </tr>\n    <tr>\n      <th>1726224</th>\n      <td>tt9907782</td>\n      <td>Mystery</td>\n    </tr>\n  </tbody>\n</table>\n<p>244263 rows × 2 columns</p>\n</div>"
     },
     "execution_count": 9,
     "metadata": {},
     "output_type": "execute_result"
    }
   ],
   "source": [
    "# create genre_movies CSV\n",
    "movie_list_db_df = basics_df[basics_df['titleType'] == 'movie']\n",
    "movie_genre_db_df = movie_list_db_df.join(movie_list_db_df['genres'].str.split(',', expand=True).rename(columns={0:'Genre1', 1:'Genre2', 2:'Genre3'}))\n",
    "movie_genre_db_df = movie_genre_db_df[['tconst', 'Genre1', 'Genre2', 'Genre3']]\n",
    "movie_genre_db_df = movie_genre_db_df[~(movie_genre_db_df['Genre1'] == '\\\\N')]\n",
    "pd.melt(movie_genre_db_df, id_vars='tconst', value_vars=['Genre1','Genre2','Genre3'], value_name='Genre')\n",
    "movie_genre_db_df = movie_genre_db_df.melt('tconst', value_name='Genre').drop(columns='variable')\n",
    "movie_genre_db_df = movie_genre_db_df[~movie_genre_db_df['Genre'].isna()]\n",
    "movie_genre_db_df = movie_genre_db_df[movie_genre_db_df['tconst'].isin(movie_db_df['tconst'].unique())]\n",
    "movie_genre_db_df.to_csv('genre_movies.csv', index=False)\n",
    "movie_genre_db_df\n"
   ]
  },
  {
   "cell_type": "code",
   "execution_count": null,
   "outputs": [],
   "source": [],
   "metadata": {
    "collapsed": false
   }
  }
 ],
 "metadata": {
  "interpreter": {
   "hash": "aee8b7b246df8f9039afb4144a1f6fd8d2ca17a180786b69acc140d282b71a49"
  },
  "kernelspec": {
   "display_name": "Python 3",
   "language": "python",
   "name": "python3"
  },
  "language_info": {
   "codemirror_mode": {
    "name": "ipython",
    "version": 3
   },
   "file_extension": ".py",
   "mimetype": "text/x-python",
   "name": "python",
   "nbconvert_exporter": "python",
   "pygments_lexer": "ipython3",
   "version": "3.9.0"
  }
 },
 "nbformat": 4,
 "nbformat_minor": 2
}
