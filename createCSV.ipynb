{
 "cells": [
  {
   "cell_type": "code",
   "execution_count": 2,
   "metadata": {
    "ExecuteTime": {
     "start_time": "2023-06-12T17:29:14.774715Z",
     "end_time": "2023-06-12T17:29:14.788246Z"
    }
   },
   "outputs": [],
   "source": [
    "import pandas as pd\n",
    "import numpy as np"
   ]
  },
  {
   "cell_type": "code",
   "execution_count": 3,
   "metadata": {
    "ExecuteTime": {
     "start_time": "2023-06-12T17:29:14.780119Z",
     "end_time": "2023-06-12T17:31:02.599958Z"
    }
   },
   "outputs": [
    {
     "name": "stderr",
     "output_type": "stream",
     "text": [
      "/var/folders/mj/mqkdjsmx093601gfdjss778r0000gn/T/ipykernel_37406/2497871281.py:1: DtypeWarning: Columns (7) have mixed types. Specify dtype option on import or set low_memory=False.\n",
      "  title_akas_df = pd.read_csv('title.akas.tsv.gz', compression='gzip', header=0, sep='\\t', quotechar='\"')\n",
      "/var/folders/mj/mqkdjsmx093601gfdjss778r0000gn/T/ipykernel_37406/2497871281.py:3: DtypeWarning: Columns (4) have mixed types. Specify dtype option on import or set low_memory=False.\n",
      "  basics_df = pd.read_csv('title.basics.tsv.gz', compression='gzip', header=0, sep='\\t', quotechar='\"')\n"
     ]
    },
    {
     "name": "stdout",
     "output_type": "stream",
     "text": [
      "reading done\n"
     ]
    }
   ],
   "source": [
    "title_akas_df = pd.read_csv('title.akas.tsv.gz', compression='gzip', header=0, sep='\\t', quotechar='\"')\n",
    "basics_df = pd.read_csv('title.basics.tsv.gz', compression='gzip', header=0, sep='\\t', quotechar='\"')\n",
    "ratings_df = pd.read_csv('title.ratings.tsv.gz', compression='gzip', header=0, sep='\\t', quotechar='\"')\n",
    "crew_df = pd.read_csv('title.crew.tsv.gz',compression='gzip', header=0, sep='\\t', quotechar='\"')\n",
    "principals_df = pd.read_csv('title.principals.tsv.gz', compression='gzip', header=0, sep='\\t', quotechar='\"')\n",
    "name_basic_df = pd.read_csv('name.basics.tsv.gz', compression='gzip', header=0, sep='\\t', quotechar='\"')\n",
    "print(\"reading done\")\n"
   ]
  },
  {
   "cell_type": "code",
   "execution_count": 4,
   "metadata": {
    "scrolled": true,
    "ExecuteTime": {
     "start_time": "2023-06-12T17:31:02.833612Z",
     "end_time": "2023-06-12T17:31:05.941898Z"
    }
   },
   "outputs": [
    {
     "name": "stdout",
     "output_type": "stream",
     "text": [
      "director done\n"
     ]
    },
    {
     "data": {
      "text/plain": "             nconst         primaryName birthYear deathYear\n4         nm0000005      Ingmar Bergman      1918      2007\n7         nm0000008       Marlon Brando      1924      2004\n9         nm0000010        James Cagney      1899      1986\n18        nm0000019    Federico Fellini      1920      1993\n23        nm0000024        John Gielgud      1904      2000\n...             ...                 ...       ...       ...\n12592197  nm9987048      Michael Maltby      1942       NaN\n12595760  nm9990940    Emma-Marie Fusco      2001       NaN\n12597170  nm9992905           Hepi Mita      1986       NaN\n12597202  nm9992946  Christoph Blaschke      1993       NaN\n12597591  nm9993379     Fanny Hozleiter      1988       NaN\n\n[89456 rows x 4 columns]",
      "text/html": "<div>\n<style scoped>\n    .dataframe tbody tr th:only-of-type {\n        vertical-align: middle;\n    }\n\n    .dataframe tbody tr th {\n        vertical-align: top;\n    }\n\n    .dataframe thead th {\n        text-align: right;\n    }\n</style>\n<table border=\"1\" class=\"dataframe\">\n  <thead>\n    <tr style=\"text-align: right;\">\n      <th></th>\n      <th>nconst</th>\n      <th>primaryName</th>\n      <th>birthYear</th>\n      <th>deathYear</th>\n    </tr>\n  </thead>\n  <tbody>\n    <tr>\n      <th>4</th>\n      <td>nm0000005</td>\n      <td>Ingmar Bergman</td>\n      <td>1918</td>\n      <td>2007</td>\n    </tr>\n    <tr>\n      <th>7</th>\n      <td>nm0000008</td>\n      <td>Marlon Brando</td>\n      <td>1924</td>\n      <td>2004</td>\n    </tr>\n    <tr>\n      <th>9</th>\n      <td>nm0000010</td>\n      <td>James Cagney</td>\n      <td>1899</td>\n      <td>1986</td>\n    </tr>\n    <tr>\n      <th>18</th>\n      <td>nm0000019</td>\n      <td>Federico Fellini</td>\n      <td>1920</td>\n      <td>1993</td>\n    </tr>\n    <tr>\n      <th>23</th>\n      <td>nm0000024</td>\n      <td>John Gielgud</td>\n      <td>1904</td>\n      <td>2000</td>\n    </tr>\n    <tr>\n      <th>...</th>\n      <td>...</td>\n      <td>...</td>\n      <td>...</td>\n      <td>...</td>\n    </tr>\n    <tr>\n      <th>12592197</th>\n      <td>nm9987048</td>\n      <td>Michael Maltby</td>\n      <td>1942</td>\n      <td>NaN</td>\n    </tr>\n    <tr>\n      <th>12595760</th>\n      <td>nm9990940</td>\n      <td>Emma-Marie Fusco</td>\n      <td>2001</td>\n      <td>NaN</td>\n    </tr>\n    <tr>\n      <th>12597170</th>\n      <td>nm9992905</td>\n      <td>Hepi Mita</td>\n      <td>1986</td>\n      <td>NaN</td>\n    </tr>\n    <tr>\n      <th>12597202</th>\n      <td>nm9992946</td>\n      <td>Christoph Blaschke</td>\n      <td>1993</td>\n      <td>NaN</td>\n    </tr>\n    <tr>\n      <th>12597591</th>\n      <td>nm9993379</td>\n      <td>Fanny Hozleiter</td>\n      <td>1988</td>\n      <td>NaN</td>\n    </tr>\n  </tbody>\n</table>\n<p>89456 rows × 4 columns</p>\n</div>"
     },
     "execution_count": 4,
     "metadata": {},
     "output_type": "execute_result"
    }
   ],
   "source": [
    "# create DIRECTOR CSV\n",
    "name_basic_db_df = name_basic_df[~name_basic_df['primaryProfession'].isna()]\n",
    "director_db_df = name_basic_db_df[name_basic_db_df['primaryProfession'].str.contains('director')]\n",
    "director_db_df = director_db_df[['nconst', 'primaryName', 'birthYear', 'deathYear']]\n",
    "director_db_df = director_db_df[~(director_db_df['birthYear'] == '\\\\N')]\n",
    "director_db_df['deathYear'] = director_db_df['deathYear'].replace('\\\\N', np.nan)\n",
    "director_db_df.to_csv('director.csv', index=False)\n",
    "print(\"director done\")\n",
    "director_db_df"
   ]
  },
  {
   "cell_type": "code",
   "execution_count": 5,
   "metadata": {
    "ExecuteTime": {
     "start_time": "2023-06-12T17:31:06.231268Z",
     "end_time": "2023-06-12T17:31:12.871061Z"
    }
   },
   "outputs": [
    {
     "name": "stdout",
     "output_type": "stream",
     "text": [
      "actor done\n"
     ]
    },
    {
     "data": {
      "text/plain": "             nconst      primaryName birthYear deathYear\n0         nm0000001     Fred Astaire      1899      1987\n1         nm0000002    Lauren Bacall      1924      2014\n2         nm0000003  Brigitte Bardot      1934       NaN\n3         nm0000004     John Belushi      1949      1982\n4         nm0000005   Ingmar Bergman      1918      2007\n...             ...              ...       ...       ...\n12597098  nm9992812            Daisy      1994       NaN\n12597426  nm9993199    Denis Nurulin      1997       NaN\n12597591  nm9993379  Fanny Hozleiter      1988       NaN\n12597727  nm9993535    Henry Lawfull      2006       NaN\n12597865  nm9993693      Apsara Rani      1996       NaN\n\n[348831 rows x 4 columns]",
      "text/html": "<div>\n<style scoped>\n    .dataframe tbody tr th:only-of-type {\n        vertical-align: middle;\n    }\n\n    .dataframe tbody tr th {\n        vertical-align: top;\n    }\n\n    .dataframe thead th {\n        text-align: right;\n    }\n</style>\n<table border=\"1\" class=\"dataframe\">\n  <thead>\n    <tr style=\"text-align: right;\">\n      <th></th>\n      <th>nconst</th>\n      <th>primaryName</th>\n      <th>birthYear</th>\n      <th>deathYear</th>\n    </tr>\n  </thead>\n  <tbody>\n    <tr>\n      <th>0</th>\n      <td>nm0000001</td>\n      <td>Fred Astaire</td>\n      <td>1899</td>\n      <td>1987</td>\n    </tr>\n    <tr>\n      <th>1</th>\n      <td>nm0000002</td>\n      <td>Lauren Bacall</td>\n      <td>1924</td>\n      <td>2014</td>\n    </tr>\n    <tr>\n      <th>2</th>\n      <td>nm0000003</td>\n      <td>Brigitte Bardot</td>\n      <td>1934</td>\n      <td>NaN</td>\n    </tr>\n    <tr>\n      <th>3</th>\n      <td>nm0000004</td>\n      <td>John Belushi</td>\n      <td>1949</td>\n      <td>1982</td>\n    </tr>\n    <tr>\n      <th>4</th>\n      <td>nm0000005</td>\n      <td>Ingmar Bergman</td>\n      <td>1918</td>\n      <td>2007</td>\n    </tr>\n    <tr>\n      <th>...</th>\n      <td>...</td>\n      <td>...</td>\n      <td>...</td>\n      <td>...</td>\n    </tr>\n    <tr>\n      <th>12597098</th>\n      <td>nm9992812</td>\n      <td>Daisy</td>\n      <td>1994</td>\n      <td>NaN</td>\n    </tr>\n    <tr>\n      <th>12597426</th>\n      <td>nm9993199</td>\n      <td>Denis Nurulin</td>\n      <td>1997</td>\n      <td>NaN</td>\n    </tr>\n    <tr>\n      <th>12597591</th>\n      <td>nm9993379</td>\n      <td>Fanny Hozleiter</td>\n      <td>1988</td>\n      <td>NaN</td>\n    </tr>\n    <tr>\n      <th>12597727</th>\n      <td>nm9993535</td>\n      <td>Henry Lawfull</td>\n      <td>2006</td>\n      <td>NaN</td>\n    </tr>\n    <tr>\n      <th>12597865</th>\n      <td>nm9993693</td>\n      <td>Apsara Rani</td>\n      <td>1996</td>\n      <td>NaN</td>\n    </tr>\n  </tbody>\n</table>\n<p>348831 rows × 4 columns</p>\n</div>"
     },
     "execution_count": 5,
     "metadata": {},
     "output_type": "execute_result"
    }
   ],
   "source": [
    "# create Actor CSV\n",
    "name_basic_db_df = name_basic_df[~name_basic_df['primaryProfession'].isna()]\n",
    "actors_db_df = name_basic_db_df[(name_basic_db_df['primaryProfession'].str.contains('actor')) | (name_basic_db_df['primaryProfession'].str.contains('actress'))]\n",
    "actors_db_df = actors_db_df[~(actors_db_df['birthYear'] == '\\\\N')]\n",
    "actors_db_df = actors_db_df[['nconst', 'primaryName', 'birthYear', 'deathYear']]\n",
    "actors_db_df = actors_db_df[actors_db_df['primaryName'].str.len() < 100]\n",
    "actors_db_df['deathYear'] = actors_db_df['deathYear'].replace('\\\\N', np.nan)\n",
    "actors_db_df.to_csv('actors.csv', index=False)\n",
    "print(\"actor done\")\n",
    "actors_db_df"
   ]
  },
  {
   "cell_type": "code",
   "execution_count": 6,
   "outputs": [
    {
     "name": "stdout",
     "output_type": "stream",
     "text": [
      "movie done\n"
     ]
    },
    {
     "data": {
      "text/plain": "           tconst  averageRating  numVotes startYear runtimeMinutes  \\\n0       tt0000009            5.3       206      1894             45   \n1       tt0000147            5.3       474      1897            100   \n3       tt0000574            6.0       831      1906             70   \n4       tt0000591            4.4        20      1907             90   \n8       tt0000679            5.1        68      1908            120   \n...           ...            ...       ...       ...            ...   \n304038  tt9913084            6.7        51      2019             75   \n304042  tt9914254            7.1         8      2019             85   \n304052  tt9915946            6.8        11      1993             96   \n304056  tt9916270            5.8      1422      2020             84   \n304057  tt9916362            6.4      5370      2020             92   \n\n                          primaryTitle     nconst  \n0                           Miss Jerry  nm0085156  \n1        The Corbett-Fitzsimmons Fight  nm0714557  \n3          The Story of the Kelly Gang  nm0846879  \n4                     The Prodigal Son  nm0141150  \n8       The Fairylogue and Radio-Plays  nm0091767  \n...                                ...        ...  \n304038                Diabolik sono io  nm0812850  \n304042                   A Cherry Tale  nm1375922  \n304052                Nuestra película  nm0652213  \n304056        Il talento del calabrone  nm1480867  \n304057                           Coven  nm1893148  \n\n[132185 rows x 7 columns]",
      "text/html": "<div>\n<style scoped>\n    .dataframe tbody tr th:only-of-type {\n        vertical-align: middle;\n    }\n\n    .dataframe tbody tr th {\n        vertical-align: top;\n    }\n\n    .dataframe thead th {\n        text-align: right;\n    }\n</style>\n<table border=\"1\" class=\"dataframe\">\n  <thead>\n    <tr style=\"text-align: right;\">\n      <th></th>\n      <th>tconst</th>\n      <th>averageRating</th>\n      <th>numVotes</th>\n      <th>startYear</th>\n      <th>runtimeMinutes</th>\n      <th>primaryTitle</th>\n      <th>nconst</th>\n    </tr>\n  </thead>\n  <tbody>\n    <tr>\n      <th>0</th>\n      <td>tt0000009</td>\n      <td>5.3</td>\n      <td>206</td>\n      <td>1894</td>\n      <td>45</td>\n      <td>Miss Jerry</td>\n      <td>nm0085156</td>\n    </tr>\n    <tr>\n      <th>1</th>\n      <td>tt0000147</td>\n      <td>5.3</td>\n      <td>474</td>\n      <td>1897</td>\n      <td>100</td>\n      <td>The Corbett-Fitzsimmons Fight</td>\n      <td>nm0714557</td>\n    </tr>\n    <tr>\n      <th>3</th>\n      <td>tt0000574</td>\n      <td>6.0</td>\n      <td>831</td>\n      <td>1906</td>\n      <td>70</td>\n      <td>The Story of the Kelly Gang</td>\n      <td>nm0846879</td>\n    </tr>\n    <tr>\n      <th>4</th>\n      <td>tt0000591</td>\n      <td>4.4</td>\n      <td>20</td>\n      <td>1907</td>\n      <td>90</td>\n      <td>The Prodigal Son</td>\n      <td>nm0141150</td>\n    </tr>\n    <tr>\n      <th>8</th>\n      <td>tt0000679</td>\n      <td>5.1</td>\n      <td>68</td>\n      <td>1908</td>\n      <td>120</td>\n      <td>The Fairylogue and Radio-Plays</td>\n      <td>nm0091767</td>\n    </tr>\n    <tr>\n      <th>...</th>\n      <td>...</td>\n      <td>...</td>\n      <td>...</td>\n      <td>...</td>\n      <td>...</td>\n      <td>...</td>\n      <td>...</td>\n    </tr>\n    <tr>\n      <th>304038</th>\n      <td>tt9913084</td>\n      <td>6.7</td>\n      <td>51</td>\n      <td>2019</td>\n      <td>75</td>\n      <td>Diabolik sono io</td>\n      <td>nm0812850</td>\n    </tr>\n    <tr>\n      <th>304042</th>\n      <td>tt9914254</td>\n      <td>7.1</td>\n      <td>8</td>\n      <td>2019</td>\n      <td>85</td>\n      <td>A Cherry Tale</td>\n      <td>nm1375922</td>\n    </tr>\n    <tr>\n      <th>304052</th>\n      <td>tt9915946</td>\n      <td>6.8</td>\n      <td>11</td>\n      <td>1993</td>\n      <td>96</td>\n      <td>Nuestra película</td>\n      <td>nm0652213</td>\n    </tr>\n    <tr>\n      <th>304056</th>\n      <td>tt9916270</td>\n      <td>5.8</td>\n      <td>1422</td>\n      <td>2020</td>\n      <td>84</td>\n      <td>Il talento del calabrone</td>\n      <td>nm1480867</td>\n    </tr>\n    <tr>\n      <th>304057</th>\n      <td>tt9916362</td>\n      <td>6.4</td>\n      <td>5370</td>\n      <td>2020</td>\n      <td>92</td>\n      <td>Coven</td>\n      <td>nm1893148</td>\n    </tr>\n  </tbody>\n</table>\n<p>132185 rows × 7 columns</p>\n</div>"
     },
     "execution_count": 6,
     "metadata": {},
     "output_type": "execute_result"
    }
   ],
   "source": [
    "# create MOVIE CSV\n",
    "movie_db_df = basics_df[basics_df['titleType'] == 'movie']\n",
    "movie_db_df = pd.merge(movie_db_df, ratings_df, on='tconst', how='inner')\n",
    "movie_db_df = movie_db_df.drop_duplicates()\n",
    "director_df = principals_df[principals_df['category'] == 'director'][['tconst', 'nconst']]\n",
    "movie_db_df = pd.merge(movie_db_df, director_df, on='tconst', how='inner')\n",
    "movie_db_df.drop_duplicates(subset =\"tconst\",keep = 'first', inplace = True)\n",
    "movie_db_df = movie_db_df.drop_duplicates()\n",
    "movie_db_df = movie_db_df[~(movie_db_df['genres'] == '\\\\N')]\n",
    "movie_db_df = movie_db_df[~(movie_db_df['runtimeMinutes'] == '\\\\N')]\n",
    "movie_db_df = movie_db_df[~(movie_db_df['startYear'] == '\\\\N')]\n",
    "movie_db_df = movie_db_df[['tconst', 'averageRating', 'numVotes', 'startYear', 'runtimeMinutes', 'primaryTitle', 'nconst']]\n",
    "movie_db_df = movie_db_df[movie_db_df['primaryTitle'].str.len() < 100]\n",
    "movie_db_df = movie_db_df[movie_db_df['nconst'].isin(director_db_df['nconst'].unique())]\n",
    "movie_db_df.to_csv('movie.csv', index=False)\n",
    "print(\"movie done\")\n",
    "movie_db_df"
   ],
   "metadata": {
    "collapsed": false,
    "ExecuteTime": {
     "start_time": "2023-06-12T17:31:13.258104Z",
     "end_time": "2023-06-12T17:31:24.946527Z"
    }
   }
  },
  {
   "cell_type": "code",
   "execution_count": 7,
   "metadata": {
    "ExecuteTime": {
     "start_time": "2023-06-12T17:31:24.952953Z",
     "end_time": "2023-06-12T17:31:30.066158Z"
    }
   },
   "outputs": [
    {
     "name": "stdout",
     "output_type": "stream",
     "text": [
      "plays in done\n"
     ]
    },
    {
     "data": {
      "text/plain": "             tconst     nconst\n24        tt0000009  nm0063086\n25        tt0000009  nm0183823\n26        tt0000009  nm1309758\n1043      tt0000574  nm0846887\n1044      tt0000574  nm0846894\n...             ...        ...\n56577991  tt9916270  nm3080119\n56577992  tt9916270  nm2063290\n56578176  tt9916362  nm3766704\n56578177  tt9916362  nm0107165\n56578178  tt9916362  nm0266723\n\n[410103 rows x 2 columns]",
      "text/html": "<div>\n<style scoped>\n    .dataframe tbody tr th:only-of-type {\n        vertical-align: middle;\n    }\n\n    .dataframe tbody tr th {\n        vertical-align: top;\n    }\n\n    .dataframe thead th {\n        text-align: right;\n    }\n</style>\n<table border=\"1\" class=\"dataframe\">\n  <thead>\n    <tr style=\"text-align: right;\">\n      <th></th>\n      <th>tconst</th>\n      <th>nconst</th>\n    </tr>\n  </thead>\n  <tbody>\n    <tr>\n      <th>24</th>\n      <td>tt0000009</td>\n      <td>nm0063086</td>\n    </tr>\n    <tr>\n      <th>25</th>\n      <td>tt0000009</td>\n      <td>nm0183823</td>\n    </tr>\n    <tr>\n      <th>26</th>\n      <td>tt0000009</td>\n      <td>nm1309758</td>\n    </tr>\n    <tr>\n      <th>1043</th>\n      <td>tt0000574</td>\n      <td>nm0846887</td>\n    </tr>\n    <tr>\n      <th>1044</th>\n      <td>tt0000574</td>\n      <td>nm0846894</td>\n    </tr>\n    <tr>\n      <th>...</th>\n      <td>...</td>\n      <td>...</td>\n    </tr>\n    <tr>\n      <th>56577991</th>\n      <td>tt9916270</td>\n      <td>nm3080119</td>\n    </tr>\n    <tr>\n      <th>56577992</th>\n      <td>tt9916270</td>\n      <td>nm2063290</td>\n    </tr>\n    <tr>\n      <th>56578176</th>\n      <td>tt9916362</td>\n      <td>nm3766704</td>\n    </tr>\n    <tr>\n      <th>56578177</th>\n      <td>tt9916362</td>\n      <td>nm0107165</td>\n    </tr>\n    <tr>\n      <th>56578178</th>\n      <td>tt9916362</td>\n      <td>nm0266723</td>\n    </tr>\n  </tbody>\n</table>\n<p>410103 rows × 2 columns</p>\n</div>"
     },
     "execution_count": 7,
     "metadata": {},
     "output_type": "execute_result"
    }
   ],
   "source": [
    "# create plays_in_movies CSV\n",
    "plays_in_movie_db_df = principals_df[principals_df['tconst'].isin(movie_db_df['tconst'].unique())]\n",
    "plays_in_movie_db_df = plays_in_movie_db_df[plays_in_movie_db_df['category'].isin(['actor','actress'])]\n",
    "plays_in_movie_db_df = plays_in_movie_db_df[['tconst', 'nconst']]\n",
    "plays_in_movie_db_df = plays_in_movie_db_df.drop_duplicates()\n",
    "plays_in_movie_db_df = plays_in_movie_db_df[plays_in_movie_db_df['nconst'].isin(actors_db_df['nconst'].unique())]\n",
    "plays_in_movie_db_df.to_csv('plays_in_movies.csv', index=False)\n",
    "print(\"plays in done\")\n",
    "plays_in_movie_db_df"
   ]
  },
  {
   "cell_type": "code",
   "execution_count": 8,
   "metadata": {
    "scrolled": true,
    "ExecuteTime": {
     "start_time": "2023-06-12T17:31:30.564703Z",
     "end_time": "2023-06-12T17:31:35.388373Z"
    }
   },
   "outputs": [
    {
     "name": "stdout",
     "output_type": "stream",
     "text": [
      "genre done\n"
     ]
    },
    {
     "data": {
      "text/plain": "            tconst        Genre\n0        tt0000009      Romance\n1        tt0000147  Documentary\n2        tt0000574       Action\n3        tt0000591        Drama\n7        tt0000679    Adventure\n...            ...          ...\n1725927  tt9891874     Thriller\n1726077  tt9898858        Crime\n1726105  tt9900060        Crime\n1726124  tt9900782        Crime\n1726224  tt9907782      Mystery\n\n[244263 rows x 2 columns]",
      "text/html": "<div>\n<style scoped>\n    .dataframe tbody tr th:only-of-type {\n        vertical-align: middle;\n    }\n\n    .dataframe tbody tr th {\n        vertical-align: top;\n    }\n\n    .dataframe thead th {\n        text-align: right;\n    }\n</style>\n<table border=\"1\" class=\"dataframe\">\n  <thead>\n    <tr style=\"text-align: right;\">\n      <th></th>\n      <th>tconst</th>\n      <th>Genre</th>\n    </tr>\n  </thead>\n  <tbody>\n    <tr>\n      <th>0</th>\n      <td>tt0000009</td>\n      <td>Romance</td>\n    </tr>\n    <tr>\n      <th>1</th>\n      <td>tt0000147</td>\n      <td>Documentary</td>\n    </tr>\n    <tr>\n      <th>2</th>\n      <td>tt0000574</td>\n      <td>Action</td>\n    </tr>\n    <tr>\n      <th>3</th>\n      <td>tt0000591</td>\n      <td>Drama</td>\n    </tr>\n    <tr>\n      <th>7</th>\n      <td>tt0000679</td>\n      <td>Adventure</td>\n    </tr>\n    <tr>\n      <th>...</th>\n      <td>...</td>\n      <td>...</td>\n    </tr>\n    <tr>\n      <th>1725927</th>\n      <td>tt9891874</td>\n      <td>Thriller</td>\n    </tr>\n    <tr>\n      <th>1726077</th>\n      <td>tt9898858</td>\n      <td>Crime</td>\n    </tr>\n    <tr>\n      <th>1726105</th>\n      <td>tt9900060</td>\n      <td>Crime</td>\n    </tr>\n    <tr>\n      <th>1726124</th>\n      <td>tt9900782</td>\n      <td>Crime</td>\n    </tr>\n    <tr>\n      <th>1726224</th>\n      <td>tt9907782</td>\n      <td>Mystery</td>\n    </tr>\n  </tbody>\n</table>\n<p>244263 rows × 2 columns</p>\n</div>"
     },
     "execution_count": 8,
     "metadata": {},
     "output_type": "execute_result"
    }
   ],
   "source": [
    "# create genre_movies CSV\n",
    "movie_list_db_df = basics_df[basics_df['titleType'] == 'movie']\n",
    "movie_genre_db_df = movie_list_db_df.join(movie_list_db_df['genres'].str.split(',', expand=True).rename(columns={0:'Genre1', 1:'Genre2', 2:'Genre3'}))\n",
    "movie_genre_db_df = movie_genre_db_df[['tconst', 'Genre1', 'Genre2', 'Genre3']]\n",
    "movie_genre_db_df = movie_genre_db_df[~(movie_genre_db_df['Genre1'] == '\\\\N')]\n",
    "pd.melt(movie_genre_db_df, id_vars='tconst', value_vars=['Genre1','Genre2','Genre3'], value_name='Genre')\n",
    "movie_genre_db_df = movie_genre_db_df.melt('tconst', value_name='Genre').drop(columns='variable')\n",
    "movie_genre_db_df = movie_genre_db_df[~movie_genre_db_df['Genre'].isna()]\n",
    "movie_genre_db_df = movie_genre_db_df[movie_genre_db_df['tconst'].isin(movie_db_df['tconst'].unique())]\n",
    "movie_genre_db_df.to_csv('genre_movies.csv', index=False)\n",
    "print(\"genre done\")\n",
    "movie_genre_db_df\n"
   ]
  },
  {
   "cell_type": "code",
   "execution_count": 8,
   "outputs": [],
   "source": [],
   "metadata": {
    "collapsed": false,
    "ExecuteTime": {
     "start_time": "2023-06-12T17:31:35.384489Z",
     "end_time": "2023-06-12T17:31:35.389053Z"
    }
   }
  }
 ],
 "metadata": {
  "interpreter": {
   "hash": "aee8b7b246df8f9039afb4144a1f6fd8d2ca17a180786b69acc140d282b71a49"
  },
  "kernelspec": {
   "display_name": "Python 3",
   "language": "python",
   "name": "python3"
  },
  "language_info": {
   "codemirror_mode": {
    "name": "ipython",
    "version": 3
   },
   "file_extension": ".py",
   "mimetype": "text/x-python",
   "name": "python",
   "nbconvert_exporter": "python",
   "pygments_lexer": "ipython3",
   "version": "3.9.0"
  }
 },
 "nbformat": 4,
 "nbformat_minor": 2
}
